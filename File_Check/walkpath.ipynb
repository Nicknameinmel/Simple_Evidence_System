{
 "cells": [
  {
   "cell_type": "code",
   "execution_count": 2,
   "id": "db869ab4-5d75-4fc8-b5d9-494cc8f8fc4a",
   "metadata": {},
   "outputs": [
    {
     "name": "stdin",
     "output_type": "stream",
     "text": [
      " C:\\Users\\kyle.liu\\File_Check\\Testing1\n"
     ]
    }
   ],
   "source": [
    "#Walk Through v 1.1\n",
    "#KK\n",
    "#2022.7\n",
    "\n",
    "import pandas as pd #pip install pandas\n",
    "import os, hashlib\n",
    "df = pd.DataFrame(columns=['File','Hash','Path'])\n",
    "md5 = hashlib.md5() #MD5\n",
    "root_path = input()\n",
    "        \n",
    "def md5sum(filename):\n",
    "    with open(filename,\"rb\") as f:\n",
    "        line = f.read()\n",
    "    return hashlib.md5(line).hexdigest()\n",
    "\n",
    "for root, dirs, files in os.walk(root_path, topdown=False):\n",
    "    for name in files:\n",
    "        k = os.path.join(root, name)\n",
    "        df.loc[len(df.index)] = [name,md5sum(k),root]\n",
    "    df.to_csv(\"list.csv\", encoding='utf-8-sig')"
   ]
  },
  {
   "cell_type": "code",
   "execution_count": 10,
   "id": "006f3fcc-e8cc-4c8d-8a33-3f2a2358422a",
   "metadata": {},
   "outputs": [
    {
     "data": {
      "text/plain": [
       "'\\ni=0\\nfor root, dirs, files in os.walk(root_path, topdown=False):\\n    for name in files:\\n        i=i+1\\n        old_name = os.path.join(root, name)\\n        new_name = os.path.join(root, name.split(\".\")[0] + \\' #item\\'+ \\' \\' + str(i) + \\'.\\' + name.split(\".\")[-1])\\n        print(name + \" change to \" + name.split(\".\")[0] + \\' #item\\'+ \\' \\' + str(i) + \\'.\\' + name.split(\".\")[-1])\\n        os.rename(old_name, new_name)\\n'"
      ]
     },
     "execution_count": 10,
     "metadata": {},
     "output_type": "execute_result"
    }
   ],
   "source": [
    "#Rename Fuction v 1.0\n",
    "#Please notice that the rename process is irreversible！！！\n",
    "'''\n",
    "i=0\n",
    "for root, dirs, files in os.walk(root_path, topdown=False):\n",
    "    for name in files:\n",
    "        i=i+1\n",
    "        old_name = os.path.join(root, name)\n",
    "        new_name = os.path.join(root, name.split(\".\")[0] + ' #item'+ ' ' + str(i) + '.' + name.split(\".\")[-1])\n",
    "        print(name + \" change to \" + name.split(\".\")[0] + ' #item'+ ' ' + str(i) + '.' + name.split(\".\")[-1])\n",
    "        os.rename(old_name, new_name)\n",
    "'''"
   ]
  },
  {
   "cell_type": "code",
   "execution_count": null,
   "id": "9c59dd2d-55b3-4828-ba11-dee292ff1ebb",
   "metadata": {},
   "outputs": [],
   "source": []
  }
 ],
 "metadata": {
  "kernelspec": {
   "display_name": "Python 3 (ipykernel)",
   "language": "python",
   "name": "python3"
  },
  "language_info": {
   "codemirror_mode": {
    "name": "ipython",
    "version": 3
   },
   "file_extension": ".py",
   "mimetype": "text/x-python",
   "name": "python",
   "nbconvert_exporter": "python",
   "pygments_lexer": "ipython3",
   "version": "3.8.8"
  }
 },
 "nbformat": 4,
 "nbformat_minor": 5
}
